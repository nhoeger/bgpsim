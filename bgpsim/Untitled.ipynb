{
 "cells": [
  {
   "cell_type": "code",
   "execution_count": 3,
   "metadata": {},
   "outputs": [],
   "source": [
    "import bgpsecsim.as_graph as as_graph\n",
    "\n",
    "AS_REL_FILE = 'caida-data/20121001.as-rel.txt'\n",
    "nx_graph = as_graph.parse_as_rel_file(AS_REL_FILE)"
   ]
  },
  {
   "cell_type": "code",
   "execution_count": 4,
   "metadata": {},
   "outputs": [],
   "source": [
    "ORIGINAL_CONTENT_PROVIDERS = [22822, 20940, 15133, 15169, 8075, 10310, 16265, 16509, 32934, 2906, 14907, 714, 13414, 4837, 40428, 23286, 38365]\n",
    "BIG7_CONTENT_PROVIDERS = [20940, 16509, 714, 32934, 15169, 8075, 2906]"
   ]
  },
  {
   "cell_type": "code",
   "execution_count": 5,
   "metadata": {},
   "outputs": [
    {
     "name": "stdout",
     "output_type": "stream",
     "text": [
      "[10242, 27781, 8069, 34695, 5511, 2828, 17676, 16397, 26769, 1299, 4755, 30740, 12182, 14743, 5400, 3352, 9498, 4760, 3356, 4637, 286, 12956, 6939, 8220, 5410, 3491, 7843, 4766, 22822, 10026, 174, 3758, 4657, 7473, 7474, 4788, 6453, 2611, 3257, 7738, 5050, 12989, 701, 6461, 18881, 24130, 2497, 5580, 209, 28625, 2516, 4436, 1239, 7004, 3549, 2914, 4323, 13030, 3303, 8551, 1257, 6762, 9318, 7018, 8167, 9070, 6128, 7922, 25074, 36086, 3320, 1273, 2686, 2687]\n"
     ]
    }
   ],
   "source": [
    "from bgpsecsim.asys import AS, AS_ID\n",
    "from bgpsecsim.as_graph import ASGraph\n",
    "from bgpsecsim.routing_policy import (\n",
    "    DefaultPolicy, RPKIPolicy, PathEndValidationPolicy,\n",
    "    BGPsecHighSecPolicy, BGPsecMedSecPolicy, BGPsecLowSecPolicy,\n",
    ")\n",
    "graph = ASGraph(nx_graph, policy=RPKIPolicy())\n",
    "\n",
    "\n",
    "print(graph.get_providers(BIG7_CONTENT_PROVIDERS))\n",
    "        "
   ]
  },
  {
   "cell_type": "code",
   "execution_count": 6,
   "metadata": {},
   "outputs": [],
   "source": [
    "import random\n",
    "\n",
    "n_trials = 48\n",
    "as_ids = list(nx_graph.nodes)\n",
    "trials = [random.choices(as_ids, k=2) for _ in range(n_trials)]"
   ]
  },
  {
   "cell_type": "code",
   "execution_count": 9,
   "metadata": {},
   "outputs": [
    {
     "ename": "RecursionError",
     "evalue": "maximum recursion depth exceeded while pickling an object",
     "output_type": "error",
     "traceback": [
      "\u001B[1;31m---------------------------------------------------------------------------\u001B[0m",
      "\u001B[1;31mRecursionError\u001B[0m                            Traceback (most recent call last)",
      "Cell \u001B[1;32mIn [9], line 21\u001B[0m\n\u001B[0;32m      7\u001B[0m     \u001B[38;5;28;01mreturn\u001B[39;00m \u001B[38;5;28mfloat\u001B[39m(statistics\u001B[38;5;241m.\u001B[39mmean(seq))\n\u001B[0;32m      9\u001B[0m \u001B[38;5;66;03m#line1_results = []\u001B[39;00m\n\u001B[0;32m     10\u001B[0m \u001B[38;5;66;03m#for deployment in range(0, 110, 10):\u001B[39;00m\n\u001B[0;32m     11\u001B[0m \u001B[38;5;66;03m#    print(f\"Next-AS (deployment = {deployment})\", deployment)\u001B[39;00m\n\u001B[1;32m   (...)\u001B[0m\n\u001B[0;32m     18\u001B[0m \u001B[38;5;66;03m#    line2_results.append(mean(experiments.figure2a_line_2_bgpsec_partial(nx_graph, deployment, trials)))\u001B[39;00m\n\u001B[0;32m     19\u001B[0m \u001B[38;5;66;03m#print(\"BGPsec in partial deployment: \", line2_results)\u001B[39;00m\n\u001B[1;32m---> 21\u001B[0m line3_results \u001B[38;5;241m=\u001B[39m mean(\u001B[43mexperiments\u001B[49m\u001B[38;5;241;43m.\u001B[39;49m\u001B[43mfigure2a_line_3_two_hop\u001B[49m\u001B[43m(\u001B[49m\u001B[43mnx_graph\u001B[49m\u001B[43m,\u001B[49m\u001B[43m \u001B[49m\u001B[43mtrials\u001B[49m\u001B[43m)\u001B[49m)\n\u001B[0;32m     22\u001B[0m \u001B[38;5;28mprint\u001B[39m(\u001B[38;5;124m\"\u001B[39m\u001B[38;5;124m2-hop: \u001B[39m\u001B[38;5;124m\"\u001B[39m, line3_results)\n\u001B[0;32m     24\u001B[0m line4_results \u001B[38;5;241m=\u001B[39m mean(experiments\u001B[38;5;241m.\u001B[39mfigure2a_line_4_rpki(nx_graph, trials))\n",
      "File \u001B[1;32m~\\Documents\\GitHub\\BA-TimMeyer\\bgpsecsim\\experiments.py:45\u001B[0m, in \u001B[0;36mfigure2a_line_3_two_hop\u001B[1;34m(nx_graph, trials)\u001B[0m\n\u001B[0;32m     40\u001B[0m \u001B[38;5;28;01mdef\u001B[39;00m \u001B[38;5;21mfigure2a_line_3_two_hop\u001B[39m(\n\u001B[0;32m     41\u001B[0m         nx_graph: nx\u001B[38;5;241m.\u001B[39mGraph,\n\u001B[0;32m     42\u001B[0m         trials: List[Tuple[AS_ID, AS_ID]]\n\u001B[0;32m     43\u001B[0m ) \u001B[38;5;241m-\u001B[39m\u001B[38;5;241m>\u001B[39m List[Fraction]:\n\u001B[0;32m     44\u001B[0m     graph \u001B[38;5;241m=\u001B[39m ASGraph(nx_graph, policy\u001B[38;5;241m=\u001B[39mPathEndValidationPolicy())\n\u001B[1;32m---> 45\u001B[0m     \u001B[38;5;28;01mreturn\u001B[39;00m \u001B[43mfigure2a_experiment\u001B[49m\u001B[43m(\u001B[49m\u001B[43mgraph\u001B[49m\u001B[43m,\u001B[49m\u001B[43m \u001B[49m\u001B[43mtrials\u001B[49m\u001B[43m,\u001B[49m\u001B[43m \u001B[49m\u001B[43mn_hops\u001B[49m\u001B[38;5;241;43m=\u001B[39;49m\u001B[38;5;241;43m2\u001B[39;49m\u001B[43m)\u001B[49m\n",
      "File \u001B[1;32m~\\Documents\\GitHub\\BA-TimMeyer\\bgpsecsim\\experiments.py:128\u001B[0m, in \u001B[0;36mfigure2a_experiment\u001B[1;34m(graph, trials, n_hops)\u001B[0m\n\u001B[0;32m    124\u001B[0m workers \u001B[38;5;241m=\u001B[39m [Figure2aExperiment(trial_queue, result_queue, graph, n_hops)\n\u001B[0;32m    125\u001B[0m            \u001B[38;5;28;01mfor\u001B[39;00m _ \u001B[38;5;129;01min\u001B[39;00m \u001B[38;5;28mrange\u001B[39m(PARALLELISM)]\n\u001B[0;32m    127\u001B[0m \u001B[38;5;28;01mfor\u001B[39;00m worker \u001B[38;5;129;01min\u001B[39;00m workers:\n\u001B[1;32m--> 128\u001B[0m     \u001B[43mworker\u001B[49m\u001B[38;5;241;43m.\u001B[39;49m\u001B[43mstart\u001B[49m\u001B[43m(\u001B[49m\u001B[43m)\u001B[49m\n\u001B[0;32m    130\u001B[0m \u001B[38;5;28;01mfor\u001B[39;00m trial \u001B[38;5;129;01min\u001B[39;00m trials:\n\u001B[0;32m    131\u001B[0m     trial_queue\u001B[38;5;241m.\u001B[39mput(trial)\n",
      "File \u001B[1;32m~\\AppData\\Local\\Programs\\Python\\Python310\\lib\\multiprocessing\\process.py:121\u001B[0m, in \u001B[0;36mBaseProcess.start\u001B[1;34m(self)\u001B[0m\n\u001B[0;32m    118\u001B[0m \u001B[38;5;28;01massert\u001B[39;00m \u001B[38;5;129;01mnot\u001B[39;00m _current_process\u001B[38;5;241m.\u001B[39m_config\u001B[38;5;241m.\u001B[39mget(\u001B[38;5;124m'\u001B[39m\u001B[38;5;124mdaemon\u001B[39m\u001B[38;5;124m'\u001B[39m), \\\n\u001B[0;32m    119\u001B[0m        \u001B[38;5;124m'\u001B[39m\u001B[38;5;124mdaemonic processes are not allowed to have children\u001B[39m\u001B[38;5;124m'\u001B[39m\n\u001B[0;32m    120\u001B[0m _cleanup()\n\u001B[1;32m--> 121\u001B[0m \u001B[38;5;28mself\u001B[39m\u001B[38;5;241m.\u001B[39m_popen \u001B[38;5;241m=\u001B[39m \u001B[38;5;28;43mself\u001B[39;49m\u001B[38;5;241;43m.\u001B[39;49m\u001B[43m_Popen\u001B[49m\u001B[43m(\u001B[49m\u001B[38;5;28;43mself\u001B[39;49m\u001B[43m)\u001B[49m\n\u001B[0;32m    122\u001B[0m \u001B[38;5;28mself\u001B[39m\u001B[38;5;241m.\u001B[39m_sentinel \u001B[38;5;241m=\u001B[39m \u001B[38;5;28mself\u001B[39m\u001B[38;5;241m.\u001B[39m_popen\u001B[38;5;241m.\u001B[39msentinel\n\u001B[0;32m    123\u001B[0m \u001B[38;5;66;03m# Avoid a refcycle if the target function holds an indirect\u001B[39;00m\n\u001B[0;32m    124\u001B[0m \u001B[38;5;66;03m# reference to the process object (see bpo-30775)\u001B[39;00m\n",
      "File \u001B[1;32m~\\AppData\\Local\\Programs\\Python\\Python310\\lib\\multiprocessing\\context.py:224\u001B[0m, in \u001B[0;36mProcess._Popen\u001B[1;34m(process_obj)\u001B[0m\n\u001B[0;32m    222\u001B[0m \u001B[38;5;129m@staticmethod\u001B[39m\n\u001B[0;32m    223\u001B[0m \u001B[38;5;28;01mdef\u001B[39;00m \u001B[38;5;21m_Popen\u001B[39m(process_obj):\n\u001B[1;32m--> 224\u001B[0m     \u001B[38;5;28;01mreturn\u001B[39;00m \u001B[43m_default_context\u001B[49m\u001B[38;5;241;43m.\u001B[39;49m\u001B[43mget_context\u001B[49m\u001B[43m(\u001B[49m\u001B[43m)\u001B[49m\u001B[38;5;241;43m.\u001B[39;49m\u001B[43mProcess\u001B[49m\u001B[38;5;241;43m.\u001B[39;49m\u001B[43m_Popen\u001B[49m\u001B[43m(\u001B[49m\u001B[43mprocess_obj\u001B[49m\u001B[43m)\u001B[49m\n",
      "File \u001B[1;32m~\\AppData\\Local\\Programs\\Python\\Python310\\lib\\multiprocessing\\context.py:336\u001B[0m, in \u001B[0;36mSpawnProcess._Popen\u001B[1;34m(process_obj)\u001B[0m\n\u001B[0;32m    333\u001B[0m \u001B[38;5;129m@staticmethod\u001B[39m\n\u001B[0;32m    334\u001B[0m \u001B[38;5;28;01mdef\u001B[39;00m \u001B[38;5;21m_Popen\u001B[39m(process_obj):\n\u001B[0;32m    335\u001B[0m     \u001B[38;5;28;01mfrom\u001B[39;00m \u001B[38;5;21;01m.\u001B[39;00m\u001B[38;5;21;01mpopen_spawn_win32\u001B[39;00m \u001B[38;5;28;01mimport\u001B[39;00m Popen\n\u001B[1;32m--> 336\u001B[0m     \u001B[38;5;28;01mreturn\u001B[39;00m \u001B[43mPopen\u001B[49m\u001B[43m(\u001B[49m\u001B[43mprocess_obj\u001B[49m\u001B[43m)\u001B[49m\n",
      "File \u001B[1;32m~\\AppData\\Local\\Programs\\Python\\Python310\\lib\\multiprocessing\\popen_spawn_win32.py:93\u001B[0m, in \u001B[0;36mPopen.__init__\u001B[1;34m(self, process_obj)\u001B[0m\n\u001B[0;32m     91\u001B[0m \u001B[38;5;28;01mtry\u001B[39;00m:\n\u001B[0;32m     92\u001B[0m     reduction\u001B[38;5;241m.\u001B[39mdump(prep_data, to_child)\n\u001B[1;32m---> 93\u001B[0m     \u001B[43mreduction\u001B[49m\u001B[38;5;241;43m.\u001B[39;49m\u001B[43mdump\u001B[49m\u001B[43m(\u001B[49m\u001B[43mprocess_obj\u001B[49m\u001B[43m,\u001B[49m\u001B[43m \u001B[49m\u001B[43mto_child\u001B[49m\u001B[43m)\u001B[49m\n\u001B[0;32m     94\u001B[0m \u001B[38;5;28;01mfinally\u001B[39;00m:\n\u001B[0;32m     95\u001B[0m     set_spawning_popen(\u001B[38;5;28;01mNone\u001B[39;00m)\n",
      "File \u001B[1;32m~\\AppData\\Local\\Programs\\Python\\Python310\\lib\\multiprocessing\\reduction.py:60\u001B[0m, in \u001B[0;36mdump\u001B[1;34m(obj, file, protocol)\u001B[0m\n\u001B[0;32m     58\u001B[0m \u001B[38;5;28;01mdef\u001B[39;00m \u001B[38;5;21mdump\u001B[39m(obj, file, protocol\u001B[38;5;241m=\u001B[39m\u001B[38;5;28;01mNone\u001B[39;00m):\n\u001B[0;32m     59\u001B[0m     \u001B[38;5;124;03m'''Replacement for pickle.dump() using ForkingPickler.'''\u001B[39;00m\n\u001B[1;32m---> 60\u001B[0m     \u001B[43mForkingPickler\u001B[49m\u001B[43m(\u001B[49m\u001B[43mfile\u001B[49m\u001B[43m,\u001B[49m\u001B[43m \u001B[49m\u001B[43mprotocol\u001B[49m\u001B[43m)\u001B[49m\u001B[38;5;241;43m.\u001B[39;49m\u001B[43mdump\u001B[49m\u001B[43m(\u001B[49m\u001B[43mobj\u001B[49m\u001B[43m)\u001B[49m\n",
      "\u001B[1;31mRecursionError\u001B[0m: maximum recursion depth exceeded while pickling an object"
     ]
    }
   ],
   "source": [
    "import statistics\n",
    "\n",
    "from bgpsecsim.as_graph import ASGraph\n",
    "import bgpsecsim.experiments as experiments\n",
    "\n",
    "def mean(seq):\n",
    "    return float(statistics.mean(seq))\n",
    "\n",
    "line1_results = []\n",
    "for deployment in range(0, 110, 10):\n",
    "    print(f\"Next-AS (deployment = {deployment})\", deployment)\n",
    "    line1_results.append(mean(experiments.figure2a_line_1_next_as(nx_graph, deployment, trials)))\n",
    "print(\"Next-AS: \", line1_results)\n",
    "\n",
    "line2_results = []\n",
    "for deployment in range(0, 110, 10):\n",
    "    print(f\"BGPsec in partial deployment (deployment = {deployment})\")\n",
    "    line2_results.append(mean(experiments.figure2a_line_2_bgpsec_partial(nx_graph, deployment, trials)))\n",
    "print(\"BGPsec in partial deployment: \", line2_results)\n",
    "\n",
    "line3_results = mean(experiments.figure2a_line_3_two_hop(nx_graph, trials))\n",
    "print(\"2-hop: \", line3_results)\n",
    "\n",
    "line4_results = mean(experiments.figure2a_line_4_rpki(nx_graph, trials))\n",
    "print(\"RPKI (full deployment): \", line4_results)\n",
    "\n",
    "line5_results = mean(experiments.figure2a_line_5_bgpsec_med_full(nx_graph, trials))\n",
    "print(\"BGPsec (full deployment, legacy allowed): \", line5_results)"
   ]
  },
  {
   "cell_type": "code",
   "execution_count": 5,
   "metadata": {},
   "outputs": [
    {
     "data": {
      "image/png": "[encoded data removed]",
      "text/plain": [
       "<Figure size 720x360 with 1 Axes>"
      ]
     },
     "metadata": {
      "needs_background": "light"
     },
     "output_type": "display_data"
    }
   ],
   "source": [
    "%matplotlib inline\n",
    "\n",
    "import numpy as np\n",
    "import matplotlib.pyplot as plt\n",
    "\n",
    "#print(\"BGPsec in partial deployment: \", line2_results)\n",
    "#line5_results = mean(experiments.figure2a_line_5_bgpsec_med_full(nx_graph, trials))\n",
    "#print(\"BGPsec (full deployment, legacy allowed): \", line5_results)\n",
    "\n",
    "deployment = np.arange(0, 110, 10)\n",
    "plt.figure(figsize=(10, 5))\n",
    "plt.plot(deployment, line1_results, label=\"Next-AS\")\n",
    "plt.plot(deployment, line2_results, label=\"BGPsec in partial deployment\")\n",
    "plt.plot(deployment, np.repeat(line3_results, 11), label=\"2-hop\")\n",
    "plt.plot(deployment, np.repeat(line4_results, 11), label=\"RPKI (full deployment)\", linestyle=\"--\")\n",
    "plt.plot(deployment, np.repeat(line5_results, 11), label=\"BGPsec (full deployment, legacy allowed)\", linestyle=\"--\")\n",
    "plt.legend()\n",
    "plt.xlabel(\"Deployment (top ISPs)\")\n",
    "plt.ylabel(\"Attacker's Success Rate\")\n",
    "plt.savefig('figure3a.png')"
   ]
  },
  {
   "cell_type": "code",
   "execution_count": null,
   "metadata": {},
   "outputs": [],
   "source": [
    "from bgpsecsim.as_graph import ASGraph\n",
    "\n",
    "graph = ASGraph(nx_graph)\n",
    "reachability = graph.determine_reachability_all()"
   ]
  },
  {
   "cell_type": "code",
   "execution_count": null,
   "metadata": {},
   "outputs": [],
   "source": [
    "# reachability = sorted(reachability.values())\n",
    "# reachability.reverse()\n",
    "len(reachability), max(reachability)"
   ]
  },
  {
   "cell_type": "code",
   "execution_count": 21,
   "metadata": {},
   "outputs": [
    {
     "data": {
      "text/plain": [
       "0.007072881430391424"
      ]
     },
     "execution_count": 21,
     "metadata": {},
     "output_type": "execute_result"
    }
   ],
   "source": [
    "import numpy as np\n",
    "\n",
    "np.sum(np.array(reachability) < len(reachability) * 0.99) / len(reachability)"
   ]
  },
  {
   "cell_type": "code",
   "execution_count": 16,
   "metadata": {},
   "outputs": [
    {
     "name": "stdout",
     "output_type": "stream",
     "text": [
      "58\n"
     ]
    }
   ],
   "source": [
    "import networkx as nx\n",
    "from typing import Generator, Optional\n",
    "\n",
    "def asyss_by_customer_count(\n",
    "        graph: nx.Graph,\n",
    "        min_count: Optional[int],\n",
    "        max_count: Optional[int]\n",
    ") -> Generator[int, None, None]:\n",
    "    for node in graph:\n",
    "        customer_count = sum((1\n",
    "                             for neighbor in graph[node]\n",
    "                             if graph[node][neighbor]['customer'] == neighbor))\n",
    "        if (min_count is None or min_count <= customer_count) and (max_count is None or max_count >= customer_count):\n",
    "            yield node\n",
    "\n",
    "print(sum((1 for _ in asyss_by_customer_count(nx_graph, 250, None) )))"
   ]
  },
  {
   "cell_type": "code",
   "execution_count": 18,
   "metadata": {},
   "outputs": [
    {
     "data": {
      "text/plain": [
       "bgpsecsim.as_graph.ASGraph"
      ]
     },
     "execution_count": 18,
     "metadata": {},
     "output_type": "execute_result"
    }
   ],
   "source": [
    "getattr(as_graph, 'ASGraph')"
   ]
  },
  {
   "cell_type": "code",
   "execution_count": null,
   "metadata": {},
   "outputs": [],
   "source": []
  }
 ],
 "metadata": {
  "kernelspec": {
   "display_name": "Python 3 (ipykernel)",
   "language": "python",
   "name": "python3"
  },
  "language_info": {
   "codemirror_mode": {
    "name": "ipython",
    "version": 3
   },
   "file_extension": ".py",
   "mimetype": "text/x-python",
   "name": "python",
   "nbconvert_exporter": "python",
   "pygments_lexer": "ipython3",
   "version": "3.10.8"
  },
  "widgets": {
   "application/vnd.jupyter.widget-state+json": {
    "state": {},
    "version_major": 2,
    "version_minor": 0
   }
  }
 },
 "nbformat": 4,
 "nbformat_minor": 4
}
